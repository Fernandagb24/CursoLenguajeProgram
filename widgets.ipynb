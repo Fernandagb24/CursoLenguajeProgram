{
  "nbformat": 4,
  "nbformat_minor": 0,
  "metadata": {
    "colab": {
      "provenance": [],
      "authorship_tag": "ABX9TyONqTplJBtVWe8U3woX0yOP",
      "include_colab_link": true
    },
    "kernelspec": {
      "name": "python3",
      "display_name": "Python 3"
    },
    "language_info": {
      "name": "python"
    },
    "widgets": {
      "application/vnd.jupyter.widget-state+json": {
        "db9386e6967c4ce690e2ab34b5ea1797": {
          "model_module": "@jupyter-widgets/controls",
          "model_name": "ButtonModel",
          "model_module_version": "1.5.0",
          "state": {
            "_dom_classes": [],
            "_model_module": "@jupyter-widgets/controls",
            "_model_module_version": "1.5.0",
            "_model_name": "ButtonModel",
            "_view_count": null,
            "_view_module": "@jupyter-widgets/controls",
            "_view_module_version": "1.5.0",
            "_view_name": "ButtonView",
            "button_style": "",
            "description": "Ingresar Cliente",
            "disabled": false,
            "icon": "",
            "layout": "IPY_MODEL_c167ae8d76ad48c1928c86c3f2a26152",
            "style": "IPY_MODEL_253cdd0d44ec494eb2ef66eb58f833d2",
            "tooltip": ""
          }
        },
        "c167ae8d76ad48c1928c86c3f2a26152": {
          "model_module": "@jupyter-widgets/base",
          "model_name": "LayoutModel",
          "model_module_version": "1.2.0",
          "state": {
            "_model_module": "@jupyter-widgets/base",
            "_model_module_version": "1.2.0",
            "_model_name": "LayoutModel",
            "_view_count": null,
            "_view_module": "@jupyter-widgets/base",
            "_view_module_version": "1.2.0",
            "_view_name": "LayoutView",
            "align_content": null,
            "align_items": null,
            "align_self": null,
            "border": null,
            "bottom": null,
            "display": null,
            "flex": null,
            "flex_flow": null,
            "grid_area": null,
            "grid_auto_columns": null,
            "grid_auto_flow": null,
            "grid_auto_rows": null,
            "grid_column": null,
            "grid_gap": null,
            "grid_row": null,
            "grid_template_areas": null,
            "grid_template_columns": null,
            "grid_template_rows": null,
            "height": null,
            "justify_content": null,
            "justify_items": null,
            "left": null,
            "margin": null,
            "max_height": null,
            "max_width": null,
            "min_height": null,
            "min_width": null,
            "object_fit": null,
            "object_position": null,
            "order": null,
            "overflow": null,
            "overflow_x": null,
            "overflow_y": null,
            "padding": null,
            "right": null,
            "top": null,
            "visibility": null,
            "width": null
          }
        },
        "253cdd0d44ec494eb2ef66eb58f833d2": {
          "model_module": "@jupyter-widgets/controls",
          "model_name": "ButtonStyleModel",
          "model_module_version": "1.5.0",
          "state": {
            "_model_module": "@jupyter-widgets/controls",
            "_model_module_version": "1.5.0",
            "_model_name": "ButtonStyleModel",
            "_view_count": null,
            "_view_module": "@jupyter-widgets/base",
            "_view_module_version": "1.2.0",
            "_view_name": "StyleView",
            "button_color": null,
            "font_weight": ""
          }
        },
        "cb3812bacbf14beba2c2e57079943ae5": {
          "model_module": "@jupyter-widgets/controls",
          "model_name": "ButtonModel",
          "model_module_version": "1.5.0",
          "state": {
            "_dom_classes": [],
            "_model_module": "@jupyter-widgets/controls",
            "_model_module_version": "1.5.0",
            "_model_name": "ButtonModel",
            "_view_count": null,
            "_view_module": "@jupyter-widgets/controls",
            "_view_module_version": "1.5.0",
            "_view_name": "ButtonView",
            "button_style": "",
            "description": "Mostrar Portafolio",
            "disabled": false,
            "icon": "",
            "layout": "IPY_MODEL_d2d5faab50854ca8995becf91f3b5bfb",
            "style": "IPY_MODEL_0d854ae47c1f476480a822a73a3b435b",
            "tooltip": ""
          }
        },
        "d2d5faab50854ca8995becf91f3b5bfb": {
          "model_module": "@jupyter-widgets/base",
          "model_name": "LayoutModel",
          "model_module_version": "1.2.0",
          "state": {
            "_model_module": "@jupyter-widgets/base",
            "_model_module_version": "1.2.0",
            "_model_name": "LayoutModel",
            "_view_count": null,
            "_view_module": "@jupyter-widgets/base",
            "_view_module_version": "1.2.0",
            "_view_name": "LayoutView",
            "align_content": null,
            "align_items": null,
            "align_self": null,
            "border": null,
            "bottom": null,
            "display": null,
            "flex": null,
            "flex_flow": null,
            "grid_area": null,
            "grid_auto_columns": null,
            "grid_auto_flow": null,
            "grid_auto_rows": null,
            "grid_column": null,
            "grid_gap": null,
            "grid_row": null,
            "grid_template_areas": null,
            "grid_template_columns": null,
            "grid_template_rows": null,
            "height": null,
            "justify_content": null,
            "justify_items": null,
            "left": null,
            "margin": null,
            "max_height": null,
            "max_width": null,
            "min_height": null,
            "min_width": null,
            "object_fit": null,
            "object_position": null,
            "order": null,
            "overflow": null,
            "overflow_x": null,
            "overflow_y": null,
            "padding": null,
            "right": null,
            "top": null,
            "visibility": null,
            "width": null
          }
        },
        "0d854ae47c1f476480a822a73a3b435b": {
          "model_module": "@jupyter-widgets/controls",
          "model_name": "ButtonStyleModel",
          "model_module_version": "1.5.0",
          "state": {
            "_model_module": "@jupyter-widgets/controls",
            "_model_module_version": "1.5.0",
            "_model_name": "ButtonStyleModel",
            "_view_count": null,
            "_view_module": "@jupyter-widgets/base",
            "_view_module_version": "1.2.0",
            "_view_name": "StyleView",
            "button_color": null,
            "font_weight": ""
          }
        },
        "78b72755310f43aa89d9d528a5251ef2": {
          "model_module": "@jupyter-widgets/controls",
          "model_name": "ButtonModel",
          "model_module_version": "1.5.0",
          "state": {
            "_dom_classes": [],
            "_model_module": "@jupyter-widgets/controls",
            "_model_module_version": "1.5.0",
            "_model_name": "ButtonModel",
            "_view_count": null,
            "_view_module": "@jupyter-widgets/controls",
            "_view_module_version": "1.5.0",
            "_view_name": "ButtonView",
            "button_style": "",
            "description": "Calcular rendimiento",
            "disabled": false,
            "icon": "",
            "layout": "IPY_MODEL_02f781048d6a4d24bf3fbdd50e8d757c",
            "style": "IPY_MODEL_e99564c7789d408db554781a553c1589",
            "tooltip": ""
          }
        },
        "02f781048d6a4d24bf3fbdd50e8d757c": {
          "model_module": "@jupyter-widgets/base",
          "model_name": "LayoutModel",
          "model_module_version": "1.2.0",
          "state": {
            "_model_module": "@jupyter-widgets/base",
            "_model_module_version": "1.2.0",
            "_model_name": "LayoutModel",
            "_view_count": null,
            "_view_module": "@jupyter-widgets/base",
            "_view_module_version": "1.2.0",
            "_view_name": "LayoutView",
            "align_content": null,
            "align_items": null,
            "align_self": null,
            "border": null,
            "bottom": null,
            "display": null,
            "flex": null,
            "flex_flow": null,
            "grid_area": null,
            "grid_auto_columns": null,
            "grid_auto_flow": null,
            "grid_auto_rows": null,
            "grid_column": null,
            "grid_gap": null,
            "grid_row": null,
            "grid_template_areas": null,
            "grid_template_columns": null,
            "grid_template_rows": null,
            "height": null,
            "justify_content": null,
            "justify_items": null,
            "left": null,
            "margin": null,
            "max_height": null,
            "max_width": null,
            "min_height": null,
            "min_width": null,
            "object_fit": null,
            "object_position": null,
            "order": null,
            "overflow": null,
            "overflow_x": null,
            "overflow_y": null,
            "padding": null,
            "right": null,
            "top": null,
            "visibility": null,
            "width": null
          }
        },
        "e99564c7789d408db554781a553c1589": {
          "model_module": "@jupyter-widgets/controls",
          "model_name": "ButtonStyleModel",
          "model_module_version": "1.5.0",
          "state": {
            "_model_module": "@jupyter-widgets/controls",
            "_model_module_version": "1.5.0",
            "_model_name": "ButtonStyleModel",
            "_view_count": null,
            "_view_module": "@jupyter-widgets/base",
            "_view_module_version": "1.2.0",
            "_view_name": "StyleView",
            "button_color": null,
            "font_weight": ""
          }
        },
        "c9d30e157d414fa8b4992fe2bd9276bb": {
          "model_module": "@jupyter-widgets/controls",
          "model_name": "ButtonModel",
          "model_module_version": "1.5.0",
          "state": {
            "_dom_classes": [],
            "_model_module": "@jupyter-widgets/controls",
            "_model_module_version": "1.5.0",
            "_model_name": "ButtonModel",
            "_view_count": null,
            "_view_module": "@jupyter-widgets/controls",
            "_view_module_version": "1.5.0",
            "_view_name": "ButtonView",
            "button_style": "",
            "description": "Salir",
            "disabled": false,
            "icon": "",
            "layout": "IPY_MODEL_7eaf339f1e984b01a2734c29c928aff9",
            "style": "IPY_MODEL_a4b249ff10c34c8ab52bf566393e5778",
            "tooltip": ""
          }
        },
        "7eaf339f1e984b01a2734c29c928aff9": {
          "model_module": "@jupyter-widgets/base",
          "model_name": "LayoutModel",
          "model_module_version": "1.2.0",
          "state": {
            "_model_module": "@jupyter-widgets/base",
            "_model_module_version": "1.2.0",
            "_model_name": "LayoutModel",
            "_view_count": null,
            "_view_module": "@jupyter-widgets/base",
            "_view_module_version": "1.2.0",
            "_view_name": "LayoutView",
            "align_content": null,
            "align_items": null,
            "align_self": null,
            "border": null,
            "bottom": null,
            "display": null,
            "flex": null,
            "flex_flow": null,
            "grid_area": null,
            "grid_auto_columns": null,
            "grid_auto_flow": null,
            "grid_auto_rows": null,
            "grid_column": null,
            "grid_gap": null,
            "grid_row": null,
            "grid_template_areas": null,
            "grid_template_columns": null,
            "grid_template_rows": null,
            "height": null,
            "justify_content": null,
            "justify_items": null,
            "left": null,
            "margin": null,
            "max_height": null,
            "max_width": null,
            "min_height": null,
            "min_width": null,
            "object_fit": null,
            "object_position": null,
            "order": null,
            "overflow": null,
            "overflow_x": null,
            "overflow_y": null,
            "padding": null,
            "right": null,
            "top": null,
            "visibility": null,
            "width": null
          }
        },
        "a4b249ff10c34c8ab52bf566393e5778": {
          "model_module": "@jupyter-widgets/controls",
          "model_name": "ButtonStyleModel",
          "model_module_version": "1.5.0",
          "state": {
            "_model_module": "@jupyter-widgets/controls",
            "_model_module_version": "1.5.0",
            "_model_name": "ButtonStyleModel",
            "_view_count": null,
            "_view_module": "@jupyter-widgets/base",
            "_view_module_version": "1.2.0",
            "_view_name": "StyleView",
            "button_color": null,
            "font_weight": ""
          }
        },
        "e2e2a75de7834a9284a666135b247bf2": {
          "model_module": "@jupyter-widgets/controls",
          "model_name": "TextModel",
          "model_module_version": "1.5.0",
          "state": {
            "_dom_classes": [],
            "_model_module": "@jupyter-widgets/controls",
            "_model_module_version": "1.5.0",
            "_model_name": "TextModel",
            "_view_count": null,
            "_view_module": "@jupyter-widgets/controls",
            "_view_module_version": "1.5.0",
            "_view_name": "TextView",
            "continuous_update": true,
            "description": "Cliente",
            "description_tooltip": null,
            "disabled": false,
            "layout": "IPY_MODEL_dee9d44ff8554633b499522c2203abd4",
            "placeholder": "Ingresa el Nombre",
            "style": "IPY_MODEL_b176307e32f64c8fb61d0a3045abe143",
            "value": ""
          }
        },
        "dee9d44ff8554633b499522c2203abd4": {
          "model_module": "@jupyter-widgets/base",
          "model_name": "LayoutModel",
          "model_module_version": "1.2.0",
          "state": {
            "_model_module": "@jupyter-widgets/base",
            "_model_module_version": "1.2.0",
            "_model_name": "LayoutModel",
            "_view_count": null,
            "_view_module": "@jupyter-widgets/base",
            "_view_module_version": "1.2.0",
            "_view_name": "LayoutView",
            "align_content": null,
            "align_items": null,
            "align_self": null,
            "border": null,
            "bottom": null,
            "display": null,
            "flex": null,
            "flex_flow": null,
            "grid_area": null,
            "grid_auto_columns": null,
            "grid_auto_flow": null,
            "grid_auto_rows": null,
            "grid_column": null,
            "grid_gap": null,
            "grid_row": null,
            "grid_template_areas": null,
            "grid_template_columns": null,
            "grid_template_rows": null,
            "height": null,
            "justify_content": null,
            "justify_items": null,
            "left": null,
            "margin": null,
            "max_height": null,
            "max_width": null,
            "min_height": null,
            "min_width": null,
            "object_fit": null,
            "object_position": null,
            "order": null,
            "overflow": null,
            "overflow_x": null,
            "overflow_y": null,
            "padding": null,
            "right": null,
            "top": null,
            "visibility": null,
            "width": null
          }
        },
        "b176307e32f64c8fb61d0a3045abe143": {
          "model_module": "@jupyter-widgets/controls",
          "model_name": "DescriptionStyleModel",
          "model_module_version": "1.5.0",
          "state": {
            "_model_module": "@jupyter-widgets/controls",
            "_model_module_version": "1.5.0",
            "_model_name": "DescriptionStyleModel",
            "_view_count": null,
            "_view_module": "@jupyter-widgets/base",
            "_view_module_version": "1.2.0",
            "_view_name": "StyleView",
            "description_width": ""
          }
        },
        "89f2dfe632fa48fd997eee6e054da82c": {
          "model_module": "@jupyter-widgets/controls",
          "model_name": "FloatTextModel",
          "model_module_version": "1.5.0",
          "state": {
            "_dom_classes": [],
            "_model_module": "@jupyter-widgets/controls",
            "_model_module_version": "1.5.0",
            "_model_name": "FloatTextModel",
            "_view_count": null,
            "_view_module": "@jupyter-widgets/controls",
            "_view_module_version": "1.5.0",
            "_view_name": "FloatTextView",
            "continuous_update": false,
            "description": "Monto Invertido",
            "description_tooltip": null,
            "disabled": false,
            "layout": "IPY_MODEL_88c440c20bb944939bf7817cc79c9afc",
            "step": null,
            "style": "IPY_MODEL_efd14d844ed6453285c319ed230370f6",
            "value": 0
          }
        },
        "88c440c20bb944939bf7817cc79c9afc": {
          "model_module": "@jupyter-widgets/base",
          "model_name": "LayoutModel",
          "model_module_version": "1.2.0",
          "state": {
            "_model_module": "@jupyter-widgets/base",
            "_model_module_version": "1.2.0",
            "_model_name": "LayoutModel",
            "_view_count": null,
            "_view_module": "@jupyter-widgets/base",
            "_view_module_version": "1.2.0",
            "_view_name": "LayoutView",
            "align_content": null,
            "align_items": null,
            "align_self": null,
            "border": null,
            "bottom": null,
            "display": null,
            "flex": null,
            "flex_flow": null,
            "grid_area": null,
            "grid_auto_columns": null,
            "grid_auto_flow": null,
            "grid_auto_rows": null,
            "grid_column": null,
            "grid_gap": null,
            "grid_row": null,
            "grid_template_areas": null,
            "grid_template_columns": null,
            "grid_template_rows": null,
            "height": null,
            "justify_content": null,
            "justify_items": null,
            "left": null,
            "margin": null,
            "max_height": null,
            "max_width": null,
            "min_height": null,
            "min_width": null,
            "object_fit": null,
            "object_position": null,
            "order": null,
            "overflow": null,
            "overflow_x": null,
            "overflow_y": null,
            "padding": null,
            "right": null,
            "top": null,
            "visibility": null,
            "width": null
          }
        },
        "efd14d844ed6453285c319ed230370f6": {
          "model_module": "@jupyter-widgets/controls",
          "model_name": "DescriptionStyleModel",
          "model_module_version": "1.5.0",
          "state": {
            "_model_module": "@jupyter-widgets/controls",
            "_model_module_version": "1.5.0",
            "_model_name": "DescriptionStyleModel",
            "_view_count": null,
            "_view_module": "@jupyter-widgets/base",
            "_view_module_version": "1.2.0",
            "_view_name": "StyleView",
            "description_width": ""
          }
        },
        "a9d9b0ae7fe74b5493d0b6a67457341d": {
          "model_module": "@jupyter-widgets/controls",
          "model_name": "FloatTextModel",
          "model_module_version": "1.5.0",
          "state": {
            "_dom_classes": [],
            "_model_module": "@jupyter-widgets/controls",
            "_model_module_version": "1.5.0",
            "_model_name": "FloatTextModel",
            "_view_count": null,
            "_view_module": "@jupyter-widgets/controls",
            "_view_module_version": "1.5.0",
            "_view_name": "FloatTextView",
            "continuous_update": false,
            "description": "Rendimiento Anual (%)",
            "description_tooltip": null,
            "disabled": false,
            "layout": "IPY_MODEL_56aed8a9b7674dcd9d8b4ce769242d17",
            "step": null,
            "style": "IPY_MODEL_0f471639a27741acafb2afb09ad4dc9f",
            "value": 0
          }
        },
        "56aed8a9b7674dcd9d8b4ce769242d17": {
          "model_module": "@jupyter-widgets/base",
          "model_name": "LayoutModel",
          "model_module_version": "1.2.0",
          "state": {
            "_model_module": "@jupyter-widgets/base",
            "_model_module_version": "1.2.0",
            "_model_name": "LayoutModel",
            "_view_count": null,
            "_view_module": "@jupyter-widgets/base",
            "_view_module_version": "1.2.0",
            "_view_name": "LayoutView",
            "align_content": null,
            "align_items": null,
            "align_self": null,
            "border": null,
            "bottom": null,
            "display": null,
            "flex": null,
            "flex_flow": null,
            "grid_area": null,
            "grid_auto_columns": null,
            "grid_auto_flow": null,
            "grid_auto_rows": null,
            "grid_column": null,
            "grid_gap": null,
            "grid_row": null,
            "grid_template_areas": null,
            "grid_template_columns": null,
            "grid_template_rows": null,
            "height": null,
            "justify_content": null,
            "justify_items": null,
            "left": null,
            "margin": null,
            "max_height": null,
            "max_width": null,
            "min_height": null,
            "min_width": null,
            "object_fit": null,
            "object_position": null,
            "order": null,
            "overflow": null,
            "overflow_x": null,
            "overflow_y": null,
            "padding": null,
            "right": null,
            "top": null,
            "visibility": null,
            "width": null
          }
        },
        "0f471639a27741acafb2afb09ad4dc9f": {
          "model_module": "@jupyter-widgets/controls",
          "model_name": "DescriptionStyleModel",
          "model_module_version": "1.5.0",
          "state": {
            "_model_module": "@jupyter-widgets/controls",
            "_model_module_version": "1.5.0",
            "_model_name": "DescriptionStyleModel",
            "_view_count": null,
            "_view_module": "@jupyter-widgets/base",
            "_view_module_version": "1.2.0",
            "_view_name": "StyleView",
            "description_width": ""
          }
        },
        "f397a0036633414481082c0577d0017b": {
          "model_module": "@jupyter-widgets/controls",
          "model_name": "ButtonModel",
          "model_module_version": "1.5.0",
          "state": {
            "_dom_classes": [],
            "_model_module": "@jupyter-widgets/controls",
            "_model_module_version": "1.5.0",
            "_model_name": "ButtonModel",
            "_view_count": null,
            "_view_module": "@jupyter-widgets/controls",
            "_view_module_version": "1.5.0",
            "_view_name": "ButtonView",
            "button_style": "",
            "description": "Guardar",
            "disabled": false,
            "icon": "",
            "layout": "IPY_MODEL_0cd8300ade10496e837470c37d661385",
            "style": "IPY_MODEL_497b2b4500554af58a40204f82eee90a",
            "tooltip": ""
          }
        },
        "0cd8300ade10496e837470c37d661385": {
          "model_module": "@jupyter-widgets/base",
          "model_name": "LayoutModel",
          "model_module_version": "1.2.0",
          "state": {
            "_model_module": "@jupyter-widgets/base",
            "_model_module_version": "1.2.0",
            "_model_name": "LayoutModel",
            "_view_count": null,
            "_view_module": "@jupyter-widgets/base",
            "_view_module_version": "1.2.0",
            "_view_name": "LayoutView",
            "align_content": null,
            "align_items": null,
            "align_self": null,
            "border": null,
            "bottom": null,
            "display": null,
            "flex": null,
            "flex_flow": null,
            "grid_area": null,
            "grid_auto_columns": null,
            "grid_auto_flow": null,
            "grid_auto_rows": null,
            "grid_column": null,
            "grid_gap": null,
            "grid_row": null,
            "grid_template_areas": null,
            "grid_template_columns": null,
            "grid_template_rows": null,
            "height": null,
            "justify_content": null,
            "justify_items": null,
            "left": null,
            "margin": null,
            "max_height": null,
            "max_width": null,
            "min_height": null,
            "min_width": null,
            "object_fit": null,
            "object_position": null,
            "order": null,
            "overflow": null,
            "overflow_x": null,
            "overflow_y": null,
            "padding": null,
            "right": null,
            "top": null,
            "visibility": null,
            "width": null
          }
        },
        "497b2b4500554af58a40204f82eee90a": {
          "model_module": "@jupyter-widgets/controls",
          "model_name": "ButtonStyleModel",
          "model_module_version": "1.5.0",
          "state": {
            "_model_module": "@jupyter-widgets/controls",
            "_model_module_version": "1.5.0",
            "_model_name": "ButtonStyleModel",
            "_view_count": null,
            "_view_module": "@jupyter-widgets/base",
            "_view_module_version": "1.2.0",
            "_view_name": "StyleView",
            "button_color": null,
            "font_weight": ""
          }
        },
        "e48b1e6dd95a41c3971b89d0919929b2": {
          "model_module": "@jupyter-widgets/output",
          "model_name": "OutputModel",
          "model_module_version": "1.0.0",
          "state": {
            "_dom_classes": [],
            "_model_module": "@jupyter-widgets/output",
            "_model_module_version": "1.0.0",
            "_model_name": "OutputModel",
            "_view_count": null,
            "_view_module": "@jupyter-widgets/output",
            "_view_module_version": "1.0.0",
            "_view_name": "OutputView",
            "layout": "IPY_MODEL_4ee5dca2a0ad4d2796caf2756dcf7073",
            "msg_id": "",
            "outputs": []
          }
        },
        "4ee5dca2a0ad4d2796caf2756dcf7073": {
          "model_module": "@jupyter-widgets/base",
          "model_name": "LayoutModel",
          "model_module_version": "1.2.0",
          "state": {
            "_model_module": "@jupyter-widgets/base",
            "_model_module_version": "1.2.0",
            "_model_name": "LayoutModel",
            "_view_count": null,
            "_view_module": "@jupyter-widgets/base",
            "_view_module_version": "1.2.0",
            "_view_name": "LayoutView",
            "align_content": null,
            "align_items": null,
            "align_self": null,
            "border": null,
            "bottom": null,
            "display": null,
            "flex": null,
            "flex_flow": null,
            "grid_area": null,
            "grid_auto_columns": null,
            "grid_auto_flow": null,
            "grid_auto_rows": null,
            "grid_column": null,
            "grid_gap": null,
            "grid_row": null,
            "grid_template_areas": null,
            "grid_template_columns": null,
            "grid_template_rows": null,
            "height": null,
            "justify_content": null,
            "justify_items": null,
            "left": null,
            "margin": null,
            "max_height": null,
            "max_width": null,
            "min_height": null,
            "min_width": null,
            "object_fit": null,
            "object_position": null,
            "order": null,
            "overflow": null,
            "overflow_x": null,
            "overflow_y": null,
            "padding": null,
            "right": null,
            "top": null,
            "visibility": null,
            "width": null
          }
        },
        "13bf173aa29a48d4965e55e67e752bc8": {
          "model_module": "@jupyter-widgets/controls",
          "model_name": "ButtonModel",
          "model_module_version": "1.5.0",
          "state": {
            "_dom_classes": [],
            "_model_module": "@jupyter-widgets/controls",
            "_model_module_version": "1.5.0",
            "_model_name": "ButtonModel",
            "_view_count": null,
            "_view_module": "@jupyter-widgets/controls",
            "_view_module_version": "1.5.0",
            "_view_name": "ButtonView",
            "button_style": "",
            "description": "Volver al Menú",
            "disabled": false,
            "icon": "",
            "layout": "IPY_MODEL_22e5d45ede6644d08fe4eb9fef548702",
            "style": "IPY_MODEL_04ef38c61ca24d8fbf09c0f45f6ad221",
            "tooltip": ""
          }
        },
        "22e5d45ede6644d08fe4eb9fef548702": {
          "model_module": "@jupyter-widgets/base",
          "model_name": "LayoutModel",
          "model_module_version": "1.2.0",
          "state": {
            "_model_module": "@jupyter-widgets/base",
            "_model_module_version": "1.2.0",
            "_model_name": "LayoutModel",
            "_view_count": null,
            "_view_module": "@jupyter-widgets/base",
            "_view_module_version": "1.2.0",
            "_view_name": "LayoutView",
            "align_content": null,
            "align_items": null,
            "align_self": null,
            "border": null,
            "bottom": null,
            "display": null,
            "flex": null,
            "flex_flow": null,
            "grid_area": null,
            "grid_auto_columns": null,
            "grid_auto_flow": null,
            "grid_auto_rows": null,
            "grid_column": null,
            "grid_gap": null,
            "grid_row": null,
            "grid_template_areas": null,
            "grid_template_columns": null,
            "grid_template_rows": null,
            "height": null,
            "justify_content": null,
            "justify_items": null,
            "left": null,
            "margin": null,
            "max_height": null,
            "max_width": null,
            "min_height": null,
            "min_width": null,
            "object_fit": null,
            "object_position": null,
            "order": null,
            "overflow": null,
            "overflow_x": null,
            "overflow_y": null,
            "padding": null,
            "right": null,
            "top": null,
            "visibility": null,
            "width": null
          }
        },
        "04ef38c61ca24d8fbf09c0f45f6ad221": {
          "model_module": "@jupyter-widgets/controls",
          "model_name": "ButtonStyleModel",
          "model_module_version": "1.5.0",
          "state": {
            "_model_module": "@jupyter-widgets/controls",
            "_model_module_version": "1.5.0",
            "_model_name": "ButtonStyleModel",
            "_view_count": null,
            "_view_module": "@jupyter-widgets/base",
            "_view_module_version": "1.2.0",
            "_view_name": "StyleView",
            "button_color": null,
            "font_weight": ""
          }
        },
        "cd142a2a55f54969bda2d3ab67e1c79e": {
          "model_module": "@jupyter-widgets/controls",
          "model_name": "ButtonModel",
          "model_module_version": "1.5.0",
          "state": {
            "_dom_classes": [],
            "_model_module": "@jupyter-widgets/controls",
            "_model_module_version": "1.5.0",
            "_model_name": "ButtonModel",
            "_view_count": null,
            "_view_module": "@jupyter-widgets/controls",
            "_view_module_version": "1.5.0",
            "_view_name": "ButtonView",
            "button_style": "",
            "description": "Ingresar Cliente",
            "disabled": false,
            "icon": "",
            "layout": "IPY_MODEL_3819b4c122cb48f8bb2822e496a9ddbd",
            "style": "IPY_MODEL_a8b582100f2a4ca4a5e239f2ecdd6d44",
            "tooltip": ""
          }
        },
        "3819b4c122cb48f8bb2822e496a9ddbd": {
          "model_module": "@jupyter-widgets/base",
          "model_name": "LayoutModel",
          "model_module_version": "1.2.0",
          "state": {
            "_model_module": "@jupyter-widgets/base",
            "_model_module_version": "1.2.0",
            "_model_name": "LayoutModel",
            "_view_count": null,
            "_view_module": "@jupyter-widgets/base",
            "_view_module_version": "1.2.0",
            "_view_name": "LayoutView",
            "align_content": null,
            "align_items": null,
            "align_self": null,
            "border": null,
            "bottom": null,
            "display": null,
            "flex": null,
            "flex_flow": null,
            "grid_area": null,
            "grid_auto_columns": null,
            "grid_auto_flow": null,
            "grid_auto_rows": null,
            "grid_column": null,
            "grid_gap": null,
            "grid_row": null,
            "grid_template_areas": null,
            "grid_template_columns": null,
            "grid_template_rows": null,
            "height": null,
            "justify_content": null,
            "justify_items": null,
            "left": null,
            "margin": null,
            "max_height": null,
            "max_width": null,
            "min_height": null,
            "min_width": null,
            "object_fit": null,
            "object_position": null,
            "order": null,
            "overflow": null,
            "overflow_x": null,
            "overflow_y": null,
            "padding": null,
            "right": null,
            "top": null,
            "visibility": null,
            "width": null
          }
        },
        "a8b582100f2a4ca4a5e239f2ecdd6d44": {
          "model_module": "@jupyter-widgets/controls",
          "model_name": "ButtonStyleModel",
          "model_module_version": "1.5.0",
          "state": {
            "_model_module": "@jupyter-widgets/controls",
            "_model_module_version": "1.5.0",
            "_model_name": "ButtonStyleModel",
            "_view_count": null,
            "_view_module": "@jupyter-widgets/base",
            "_view_module_version": "1.2.0",
            "_view_name": "StyleView",
            "button_color": null,
            "font_weight": ""
          }
        },
        "d7bbfa9665554b0e95c74d24eab9f0fc": {
          "model_module": "@jupyter-widgets/controls",
          "model_name": "ButtonModel",
          "model_module_version": "1.5.0",
          "state": {
            "_dom_classes": [],
            "_model_module": "@jupyter-widgets/controls",
            "_model_module_version": "1.5.0",
            "_model_name": "ButtonModel",
            "_view_count": null,
            "_view_module": "@jupyter-widgets/controls",
            "_view_module_version": "1.5.0",
            "_view_name": "ButtonView",
            "button_style": "",
            "description": "Mostrar Portafolio",
            "disabled": false,
            "icon": "",
            "layout": "IPY_MODEL_9a0e2f33df814f16bc6f5613897ad999",
            "style": "IPY_MODEL_75f0d3b864bb47058c7ee367ec123ab6",
            "tooltip": ""
          }
        },
        "9a0e2f33df814f16bc6f5613897ad999": {
          "model_module": "@jupyter-widgets/base",
          "model_name": "LayoutModel",
          "model_module_version": "1.2.0",
          "state": {
            "_model_module": "@jupyter-widgets/base",
            "_model_module_version": "1.2.0",
            "_model_name": "LayoutModel",
            "_view_count": null,
            "_view_module": "@jupyter-widgets/base",
            "_view_module_version": "1.2.0",
            "_view_name": "LayoutView",
            "align_content": null,
            "align_items": null,
            "align_self": null,
            "border": null,
            "bottom": null,
            "display": null,
            "flex": null,
            "flex_flow": null,
            "grid_area": null,
            "grid_auto_columns": null,
            "grid_auto_flow": null,
            "grid_auto_rows": null,
            "grid_column": null,
            "grid_gap": null,
            "grid_row": null,
            "grid_template_areas": null,
            "grid_template_columns": null,
            "grid_template_rows": null,
            "height": null,
            "justify_content": null,
            "justify_items": null,
            "left": null,
            "margin": null,
            "max_height": null,
            "max_width": null,
            "min_height": null,
            "min_width": null,
            "object_fit": null,
            "object_position": null,
            "order": null,
            "overflow": null,
            "overflow_x": null,
            "overflow_y": null,
            "padding": null,
            "right": null,
            "top": null,
            "visibility": null,
            "width": null
          }
        },
        "75f0d3b864bb47058c7ee367ec123ab6": {
          "model_module": "@jupyter-widgets/controls",
          "model_name": "ButtonStyleModel",
          "model_module_version": "1.5.0",
          "state": {
            "_model_module": "@jupyter-widgets/controls",
            "_model_module_version": "1.5.0",
            "_model_name": "ButtonStyleModel",
            "_view_count": null,
            "_view_module": "@jupyter-widgets/base",
            "_view_module_version": "1.2.0",
            "_view_name": "StyleView",
            "button_color": null,
            "font_weight": ""
          }
        },
        "e285f0bfe35b42bcb00c65a7f90f3d3b": {
          "model_module": "@jupyter-widgets/controls",
          "model_name": "ButtonModel",
          "model_module_version": "1.5.0",
          "state": {
            "_dom_classes": [],
            "_model_module": "@jupyter-widgets/controls",
            "_model_module_version": "1.5.0",
            "_model_name": "ButtonModel",
            "_view_count": null,
            "_view_module": "@jupyter-widgets/controls",
            "_view_module_version": "1.5.0",
            "_view_name": "ButtonView",
            "button_style": "",
            "description": "Calcular Rendimiento",
            "disabled": false,
            "icon": "",
            "layout": "IPY_MODEL_ebb3bc9ac8e74fe69e30486079e7df69",
            "style": "IPY_MODEL_42d8fc777af14699a6956133e0a94e5e",
            "tooltip": ""
          }
        },
        "ebb3bc9ac8e74fe69e30486079e7df69": {
          "model_module": "@jupyter-widgets/base",
          "model_name": "LayoutModel",
          "model_module_version": "1.2.0",
          "state": {
            "_model_module": "@jupyter-widgets/base",
            "_model_module_version": "1.2.0",
            "_model_name": "LayoutModel",
            "_view_count": null,
            "_view_module": "@jupyter-widgets/base",
            "_view_module_version": "1.2.0",
            "_view_name": "LayoutView",
            "align_content": null,
            "align_items": null,
            "align_self": null,
            "border": null,
            "bottom": null,
            "display": null,
            "flex": null,
            "flex_flow": null,
            "grid_area": null,
            "grid_auto_columns": null,
            "grid_auto_flow": null,
            "grid_auto_rows": null,
            "grid_column": null,
            "grid_gap": null,
            "grid_row": null,
            "grid_template_areas": null,
            "grid_template_columns": null,
            "grid_template_rows": null,
            "height": null,
            "justify_content": null,
            "justify_items": null,
            "left": null,
            "margin": null,
            "max_height": null,
            "max_width": null,
            "min_height": null,
            "min_width": null,
            "object_fit": null,
            "object_position": null,
            "order": null,
            "overflow": null,
            "overflow_x": null,
            "overflow_y": null,
            "padding": null,
            "right": null,
            "top": null,
            "visibility": null,
            "width": null
          }
        },
        "42d8fc777af14699a6956133e0a94e5e": {
          "model_module": "@jupyter-widgets/controls",
          "model_name": "ButtonStyleModel",
          "model_module_version": "1.5.0",
          "state": {
            "_model_module": "@jupyter-widgets/controls",
            "_model_module_version": "1.5.0",
            "_model_name": "ButtonStyleModel",
            "_view_count": null,
            "_view_module": "@jupyter-widgets/base",
            "_view_module_version": "1.2.0",
            "_view_name": "StyleView",
            "button_color": null,
            "font_weight": ""
          }
        },
        "b0a77d05b3404ee1bb6069deb875d5ac": {
          "model_module": "@jupyter-widgets/controls",
          "model_name": "ButtonModel",
          "model_module_version": "1.5.0",
          "state": {
            "_dom_classes": [],
            "_model_module": "@jupyter-widgets/controls",
            "_model_module_version": "1.5.0",
            "_model_name": "ButtonModel",
            "_view_count": null,
            "_view_module": "@jupyter-widgets/controls",
            "_view_module_version": "1.5.0",
            "_view_name": "ButtonView",
            "button_style": "",
            "description": "Salir",
            "disabled": false,
            "icon": "",
            "layout": "IPY_MODEL_87addc03584a4845b88777e8b063c52d",
            "style": "IPY_MODEL_812a7daa81ba4847afad0a0fc831947e",
            "tooltip": ""
          }
        },
        "87addc03584a4845b88777e8b063c52d": {
          "model_module": "@jupyter-widgets/base",
          "model_name": "LayoutModel",
          "model_module_version": "1.2.0",
          "state": {
            "_model_module": "@jupyter-widgets/base",
            "_model_module_version": "1.2.0",
            "_model_name": "LayoutModel",
            "_view_count": null,
            "_view_module": "@jupyter-widgets/base",
            "_view_module_version": "1.2.0",
            "_view_name": "LayoutView",
            "align_content": null,
            "align_items": null,
            "align_self": null,
            "border": null,
            "bottom": null,
            "display": null,
            "flex": null,
            "flex_flow": null,
            "grid_area": null,
            "grid_auto_columns": null,
            "grid_auto_flow": null,
            "grid_auto_rows": null,
            "grid_column": null,
            "grid_gap": null,
            "grid_row": null,
            "grid_template_areas": null,
            "grid_template_columns": null,
            "grid_template_rows": null,
            "height": null,
            "justify_content": null,
            "justify_items": null,
            "left": null,
            "margin": null,
            "max_height": null,
            "max_width": null,
            "min_height": null,
            "min_width": null,
            "object_fit": null,
            "object_position": null,
            "order": null,
            "overflow": null,
            "overflow_x": null,
            "overflow_y": null,
            "padding": null,
            "right": null,
            "top": null,
            "visibility": null,
            "width": null
          }
        },
        "812a7daa81ba4847afad0a0fc831947e": {
          "model_module": "@jupyter-widgets/controls",
          "model_name": "ButtonStyleModel",
          "model_module_version": "1.5.0",
          "state": {
            "_model_module": "@jupyter-widgets/controls",
            "_model_module_version": "1.5.0",
            "_model_name": "ButtonStyleModel",
            "_view_count": null,
            "_view_module": "@jupyter-widgets/base",
            "_view_module_version": "1.2.0",
            "_view_name": "StyleView",
            "button_color": null,
            "font_weight": ""
          }
        }
      }
    }
  },
  "cells": [
    {
      "cell_type": "markdown",
      "metadata": {
        "id": "view-in-github",
        "colab_type": "text"
      },
      "source": [
        "<a href=\"https://colab.research.google.com/github/Fernandagb24/CursoLenguajeProgram/blob/main/widgets.ipynb\" target=\"_parent\"><img src=\"https://colab.research.google.com/assets/colab-badge.svg\" alt=\"Open In Colab\"/></a>"
      ]
    },
    {
      "cell_type": "markdown",
      "source": [
        "#Parte 1: Menú Principal con Botones\n",
        "Concepto clave: Creación del menú con botones interactivos usando ipywidgets.Button."
      ],
      "metadata": {
        "id": "2A2vPYrNRhQb"
      }
    },
    {
      "cell_type": "code",
      "execution_count": 1,
      "metadata": {
        "colab": {
          "base_uri": "https://localhost:8080/",
          "height": 162,
          "referenced_widgets": [
            "db9386e6967c4ce690e2ab34b5ea1797",
            "c167ae8d76ad48c1928c86c3f2a26152",
            "253cdd0d44ec494eb2ef66eb58f833d2",
            "cb3812bacbf14beba2c2e57079943ae5",
            "d2d5faab50854ca8995becf91f3b5bfb",
            "0d854ae47c1f476480a822a73a3b435b",
            "78b72755310f43aa89d9d528a5251ef2",
            "02f781048d6a4d24bf3fbdd50e8d757c",
            "e99564c7789d408db554781a553c1589",
            "c9d30e157d414fa8b4992fe2bd9276bb",
            "7eaf339f1e984b01a2734c29c928aff9",
            "a4b249ff10c34c8ab52bf566393e5778"
          ]
        },
        "id": "24TJU-ZjRJw4",
        "outputId": "5e10f5f9-6723-44ec-9d00-27ba34d718d3"
      },
      "outputs": [
        {
          "output_type": "stream",
          "name": "stdout",
          "text": [
            "Seleccione una opción:\n"
          ]
        },
        {
          "output_type": "display_data",
          "data": {
            "text/plain": [
              "Button(description='Ingresar Cliente', style=ButtonStyle())"
            ],
            "application/vnd.jupyter.widget-view+json": {
              "version_major": 2,
              "version_minor": 0,
              "model_id": "db9386e6967c4ce690e2ab34b5ea1797"
            }
          },
          "metadata": {}
        },
        {
          "output_type": "display_data",
          "data": {
            "text/plain": [
              "Button(description='Mostrar Portafolio', style=ButtonStyle())"
            ],
            "application/vnd.jupyter.widget-view+json": {
              "version_major": 2,
              "version_minor": 0,
              "model_id": "cb3812bacbf14beba2c2e57079943ae5"
            }
          },
          "metadata": {}
        },
        {
          "output_type": "display_data",
          "data": {
            "text/plain": [
              "Button(description='Calcular rendimiento', style=ButtonStyle())"
            ],
            "application/vnd.jupyter.widget-view+json": {
              "version_major": 2,
              "version_minor": 0,
              "model_id": "78b72755310f43aa89d9d528a5251ef2"
            }
          },
          "metadata": {}
        },
        {
          "output_type": "display_data",
          "data": {
            "text/plain": [
              "Button(description='Salir', style=ButtonStyle())"
            ],
            "application/vnd.jupyter.widget-view+json": {
              "version_major": 2,
              "version_minor": 0,
              "model_id": "c9d30e157d414fa8b4992fe2bd9276bb"
            }
          },
          "metadata": {}
        }
      ],
      "source": [
        "import ipywidgets as widgets\n",
        "from IPython.display import display, clear_output\n",
        "\n",
        "# función para mostrar el menú interactivo con botones\n",
        "def mostrar_menu():\n",
        "    clear_output()  # limpia la pantalla\n",
        "    print(\"Seleccione una opción:\")\n",
        "\n",
        "    # Crear los botones de cada opción:\n",
        "    boton_ingresar = widgets.Button(description=\"Ingresar Cliente\")\n",
        "    boton_mostrar = widgets.Button(description=\"Mostrar Portafolio\")\n",
        "    boton_calcular = widgets.Button(description=\"Calcular rendimiento\")\n",
        "    boton_salir = widgets.Button(description=\"Salir\")\n",
        "\n",
        "    # funciones que se ejecutan cuando se hacen clic en cada botón\n",
        "    def boton_ingresar_click(b):\n",
        "        print(\"Usted ha seleccionado el botón de ingresar Cliente\")\n",
        "\n",
        "    def boton_mostrar_click(b):\n",
        "        print(\"Usted ha seleccionado el botón de mostrar Portafolio\")\n",
        "\n",
        "    def boton_calcular_click(b):\n",
        "        print(\"Usted ha seleccionado el botón de calcular rendimiento\")\n",
        "\n",
        "    def boton_salir_click(b):\n",
        "        clear_output()\n",
        "        print(\"Usted ha seleccionado el botón de salir\")\n",
        "\n",
        "    # Conexión del botón con la función respectiva\n",
        "    boton_ingresar.on_click(boton_ingresar_click)\n",
        "    boton_mostrar.on_click(boton_mostrar_click)\n",
        "    boton_calcular.on_click(boton_calcular_click)\n",
        "    boton_salir.on_click(boton_salir_click)\n",
        "\n",
        "    # Mostrar los botones en la pantalla\n",
        "    display(boton_ingresar, boton_mostrar, boton_calcular, boton_salir)\n",
        "\n",
        "# ejecutar el menú\n",
        "mostrar_menu()"
      ]
    },
    {
      "cell_type": "markdown",
      "source": [
        "#Parte 2: Ingresar un Cliente\n",
        "Concepto clave: Recorrer un diccionario y mostrar su contenido."
      ],
      "metadata": {
        "id": "EM6RyuD9Rp1N"
      }
    },
    {
      "cell_type": "code",
      "source": [
        "# Diccionario para almacenar los datos de los clientes\n",
        "portafolio = {}\n",
        "\n",
        "# Función para ingresar un cliente\n",
        "def ingresar_cliente():\n",
        "    clear_output()  # Limpia la salida\n",
        "\n",
        "    # Widgets para ingresar datos\n",
        "    cliente = widgets.Text(description='Cliente', placeholder='Ingresa el Nombre')\n",
        "    monto_invertido = widgets.FloatText(description='Monto Invertido', value=0.0)\n",
        "    rendimiento_anual = widgets.FloatText(description='Rendimiento Anual (%)', value=0.0)\n",
        "\n",
        "    # Botón para guardar el cliente\n",
        "    button = widgets.Button(description=\"Guardar\")\n",
        "    output = widgets.Output()\n",
        "\n",
        "    def on_button_clicked(b):\n",
        "        # Guardar los datos en el diccionario\n",
        "        if cliente.value:\n",
        "            portafolio[cliente.value] = {\n",
        "                \"Monto Invertido\": monto_invertido.value,\n",
        "                \"Rendimiento Anual\": rendimiento_anual.value\n",
        "            }\n",
        "            with output:\n",
        "                clear_output()\n",
        "                print(f\"Cliente {cliente.value} guardado.\")\n",
        "        else:\n",
        "            with output:\n",
        "                clear_output()\n",
        "                print(\"Por favor, ingresa un nombre de cliente.\")\n",
        "\n",
        "    button.on_click(on_button_clicked)\n",
        "    display(cliente, monto_invertido, rendimiento_anual, button, output)\n",
        "\n",
        "# Ejecutar la función para ingresar cliente\n",
        "ingresar_cliente()"
      ],
      "metadata": {
        "colab": {
          "base_uri": "https://localhost:8080/",
          "height": 141,
          "referenced_widgets": [
            "e2e2a75de7834a9284a666135b247bf2",
            "dee9d44ff8554633b499522c2203abd4",
            "b176307e32f64c8fb61d0a3045abe143",
            "89f2dfe632fa48fd997eee6e054da82c",
            "88c440c20bb944939bf7817cc79c9afc",
            "efd14d844ed6453285c319ed230370f6",
            "a9d9b0ae7fe74b5493d0b6a67457341d",
            "56aed8a9b7674dcd9d8b4ce769242d17",
            "0f471639a27741acafb2afb09ad4dc9f",
            "f397a0036633414481082c0577d0017b",
            "0cd8300ade10496e837470c37d661385",
            "497b2b4500554af58a40204f82eee90a",
            "e48b1e6dd95a41c3971b89d0919929b2",
            "4ee5dca2a0ad4d2796caf2756dcf7073"
          ]
        },
        "id": "wn3bMbuwR1mZ",
        "outputId": "a6cb0186-10b9-4c65-9059-725170934d51"
      },
      "execution_count": 2,
      "outputs": [
        {
          "output_type": "display_data",
          "data": {
            "text/plain": [
              "Text(value='', description='Cliente', placeholder='Ingresa el Nombre')"
            ],
            "application/vnd.jupyter.widget-view+json": {
              "version_major": 2,
              "version_minor": 0,
              "model_id": "e2e2a75de7834a9284a666135b247bf2"
            }
          },
          "metadata": {}
        },
        {
          "output_type": "display_data",
          "data": {
            "text/plain": [
              "FloatText(value=0.0, description='Monto Invertido')"
            ],
            "application/vnd.jupyter.widget-view+json": {
              "version_major": 2,
              "version_minor": 0,
              "model_id": "89f2dfe632fa48fd997eee6e054da82c"
            }
          },
          "metadata": {}
        },
        {
          "output_type": "display_data",
          "data": {
            "text/plain": [
              "FloatText(value=0.0, description='Rendimiento Anual (%)')"
            ],
            "application/vnd.jupyter.widget-view+json": {
              "version_major": 2,
              "version_minor": 0,
              "model_id": "a9d9b0ae7fe74b5493d0b6a67457341d"
            }
          },
          "metadata": {}
        },
        {
          "output_type": "display_data",
          "data": {
            "text/plain": [
              "Button(description='Guardar', style=ButtonStyle())"
            ],
            "application/vnd.jupyter.widget-view+json": {
              "version_major": 2,
              "version_minor": 0,
              "model_id": "f397a0036633414481082c0577d0017b"
            }
          },
          "metadata": {}
        },
        {
          "output_type": "display_data",
          "data": {
            "text/plain": [
              "Output()"
            ],
            "application/vnd.jupyter.widget-view+json": {
              "version_major": 2,
              "version_minor": 0,
              "model_id": "e48b1e6dd95a41c3971b89d0919929b2"
            }
          },
          "metadata": {}
        }
      ]
    },
    {
      "cell_type": "markdown",
      "source": [
        "#Parte 3: Mostrar el Portafolio de Clientes\n",
        "Concepto clave: Recorrer un diccionario y mostrar su contenido."
      ],
      "metadata": {
        "id": "8jfML5n9SFa0"
      }
    },
    {
      "cell_type": "code",
      "source": [
        "# Función para mostrar el portafolio de clientes\n",
        "def mostrar_portafolio():\n",
        "    clear_output()\n",
        "    if portafolio:\n",
        "        print(\"Portafolio de Clientes:\")\n",
        "        for cliente, datos in portafolio.items():\n",
        "            print(f\"Cliente: {cliente}\")\n",
        "            print(f\"  Monto Invertido: {datos['Monto Invertido']}\")\n",
        "            print(f\"  Rendimiento Anual: {datos['Rendimiento Anual']}%\\n\")\n",
        "    else:\n",
        "        print(\"El portafolio está vacío.\")\n",
        "\n",
        "# Ejecutar la función para mostrar el portafolio\n",
        "mostrar_portafolio()"
      ],
      "metadata": {
        "colab": {
          "base_uri": "https://localhost:8080/"
        },
        "id": "lHU5-NvcSETU",
        "outputId": "47661a8e-dc26-4fca-efcb-3e23603a0cae"
      },
      "execution_count": 3,
      "outputs": [
        {
          "output_type": "stream",
          "name": "stdout",
          "text": [
            "El portafolio está vacío.\n"
          ]
        }
      ]
    },
    {
      "cell_type": "markdown",
      "source": [
        "#Parte 4: Calcular el Rendimiento de un Cliente\n",
        "Concepto clave: Selección de un cliente del portafolio y cálculo de su rendimiento."
      ],
      "metadata": {
        "id": "qvggdbjvSXVW"
      }
    },
    {
      "cell_type": "code",
      "source": [
        "# Función para calcular el rendimiento de un cliente\n",
        "def calcular_rendimiento():\n",
        "    clear_output()\n",
        "    if portafolio:\n",
        "        # Crear dropdown con la lista de clientes\n",
        "        cliente_selector = widgets.Dropdown(\n",
        "            options=list(portafolio.keys()),\n",
        "            description='Cliente'\n",
        "        )\n",
        "\n",
        "        button_calcular = widgets.Button(description=\"Calcular Rendimiento\")\n",
        "        output = widgets.Output()\n",
        "\n",
        "        def on_button_clicked(b):\n",
        "            cliente = cliente_selector.value\n",
        "            monto_invertido = portafolio[cliente][\"Monto Invertido\"]\n",
        "            rendimiento_anual = portafolio[cliente][\"Rendimiento Anual\"]\n",
        "            rendimiento = monto_invertido * (rendimiento_anual / 100)\n",
        "            with output:\n",
        "                clear_output()\n",
        "                print(f\"El rendimiento anual de {cliente} es: {rendimiento:.2f}\")\n",
        "\n",
        "        button_calcular.on_click(on_button_clicked)\n",
        "        display(cliente_selector, button_calcular, output)\n",
        "    else:\n",
        "        print(\"El portafolio está vacío.\")\n",
        "\n",
        "# Ejecutar la función para calcular rendimiento\n",
        "calcular_rendimiento()"
      ],
      "metadata": {
        "colab": {
          "base_uri": "https://localhost:8080/"
        },
        "id": "JuO7kx0eSWPf",
        "outputId": "f7acd64d-ca69-4cd5-de3a-e76c19b4152a"
      },
      "execution_count": 4,
      "outputs": [
        {
          "output_type": "stream",
          "name": "stdout",
          "text": [
            "El portafolio está vacío.\n"
          ]
        }
      ]
    },
    {
      "cell_type": "markdown",
      "source": [
        "#Parte 5: Volver al Menú Principal\n",
        "Concepto clave: Volver al menú principal después de cada acción."
      ],
      "metadata": {
        "id": "0NyEf7T-SwtN"
      }
    },
    {
      "cell_type": "code",
      "source": [
        "# Función para regresar al menú principal\n",
        "def regresar_menu():\n",
        "    button_volver = widgets.Button(description=\"Volver al Menú\")\n",
        "\n",
        "    def on_button_clicked(b):\n",
        "        mostrar_menu()  # Vuelve a mostrar el menú principal\n",
        "\n",
        "    button_volver.on_click(on_button_clicked)\n",
        "    display(button_volver)\n",
        "regresar_menu()"
      ],
      "metadata": {
        "colab": {
          "base_uri": "https://localhost:8080/",
          "height": 49,
          "referenced_widgets": [
            "13bf173aa29a48d4965e55e67e752bc8",
            "22e5d45ede6644d08fe4eb9fef548702",
            "04ef38c61ca24d8fbf09c0f45f6ad221"
          ]
        },
        "id": "RA3XNIc_S3W8",
        "outputId": "d24b92a9-c5b8-4b8e-8a32-db72ac290106"
      },
      "execution_count": 13,
      "outputs": [
        {
          "output_type": "display_data",
          "data": {
            "text/plain": [
              "Button(description='Volver al Menú', style=ButtonStyle())"
            ],
            "application/vnd.jupyter.widget-view+json": {
              "version_major": 2,
              "version_minor": 0,
              "model_id": "13bf173aa29a48d4965e55e67e752bc8"
            }
          },
          "metadata": {}
        }
      ]
    },
    {
      "cell_type": "markdown",
      "source": [
        "#Parte 6: Integración Completa\n",
        "Concepto clave: Unión de todas las partes para crear un programa completo."
      ],
      "metadata": {
        "id": "sk8uLP0zTJlu"
      }
    },
    {
      "cell_type": "code",
      "source": [
        "# Función para mostrar el menú interactivo con botones\n",
        "def mostrar_menu():\n",
        "    clear_output()  # Limpia la pantalla\n",
        "    print(\"Seleccione una opción:\")\n",
        "\n",
        "    # Crear botones para cada opción\n",
        "    button_ingresar = widgets.Button(description=\"Ingresar Cliente\")\n",
        "    button_mostrar = widgets.Button(description=\"Mostrar Portafolio\")\n",
        "    button_calcular = widgets.Button(description=\"Calcular Rendimiento\")\n",
        "    button_salir = widgets.Button(description=\"Salir\")\n",
        "\n",
        "    # Conectar cada botón con su respectiva función\n",
        "    def on_button_ingresar_clicked(b):\n",
        "        ingresar_cliente()\n",
        "\n",
        "    def on_button_mostrar_clicked(b):\n",
        "        mostrar_portafolio()\n",
        "\n",
        "    def on_button_calcular_clicked(b):\n",
        "        calcular_rendimiento()\n",
        "\n",
        "    def on_button_salir_clicked(b):\n",
        "        clear_output()\n",
        "        print(\"Saliendo del programa...\")\n",
        "\n",
        "    button_ingresar.on_click(on_button_ingresar_clicked)\n",
        "    button_mostrar.on_click(on_button_mostrar_clicked)\n",
        "    button_calcular.on_click(on_button_calcular_clicked)\n",
        "    button_salir.on_click(on_button_salir_clicked)\n",
        "\n",
        "    # Mostrar los botones\n",
        "    display(button_ingresar, button_mostrar, button_calcular, button_salir)\n",
        "\n",
        "# Mostrar el menú al inicio\n",
        "mostrar_menu()"
      ],
      "metadata": {
        "colab": {
          "base_uri": "https://localhost:8080/",
          "height": 162,
          "referenced_widgets": [
            "cd142a2a55f54969bda2d3ab67e1c79e",
            "3819b4c122cb48f8bb2822e496a9ddbd",
            "a8b582100f2a4ca4a5e239f2ecdd6d44",
            "d7bbfa9665554b0e95c74d24eab9f0fc",
            "9a0e2f33df814f16bc6f5613897ad999",
            "75f0d3b864bb47058c7ee367ec123ab6",
            "e285f0bfe35b42bcb00c65a7f90f3d3b",
            "ebb3bc9ac8e74fe69e30486079e7df69",
            "42d8fc777af14699a6956133e0a94e5e",
            "b0a77d05b3404ee1bb6069deb875d5ac",
            "87addc03584a4845b88777e8b063c52d",
            "812a7daa81ba4847afad0a0fc831947e"
          ]
        },
        "id": "YzdOdOTNTLbJ",
        "outputId": "7597a119-1cd5-4dac-ec1a-8b9d768b7a70"
      },
      "execution_count": 11,
      "outputs": [
        {
          "output_type": "stream",
          "name": "stdout",
          "text": [
            "Seleccione una opción:\n"
          ]
        },
        {
          "output_type": "display_data",
          "data": {
            "text/plain": [
              "Button(description='Ingresar Cliente', style=ButtonStyle())"
            ],
            "application/vnd.jupyter.widget-view+json": {
              "version_major": 2,
              "version_minor": 0,
              "model_id": "cd142a2a55f54969bda2d3ab67e1c79e"
            }
          },
          "metadata": {}
        },
        {
          "output_type": "display_data",
          "data": {
            "text/plain": [
              "Button(description='Mostrar Portafolio', style=ButtonStyle())"
            ],
            "application/vnd.jupyter.widget-view+json": {
              "version_major": 2,
              "version_minor": 0,
              "model_id": "d7bbfa9665554b0e95c74d24eab9f0fc"
            }
          },
          "metadata": {}
        },
        {
          "output_type": "display_data",
          "data": {
            "text/plain": [
              "Button(description='Calcular Rendimiento', style=ButtonStyle())"
            ],
            "application/vnd.jupyter.widget-view+json": {
              "version_major": 2,
              "version_minor": 0,
              "model_id": "e285f0bfe35b42bcb00c65a7f90f3d3b"
            }
          },
          "metadata": {}
        },
        {
          "output_type": "display_data",
          "data": {
            "text/plain": [
              "Button(description='Salir', style=ButtonStyle())"
            ],
            "application/vnd.jupyter.widget-view+json": {
              "version_major": 2,
              "version_minor": 0,
              "model_id": "b0a77d05b3404ee1bb6069deb875d5ac"
            }
          },
          "metadata": {}
        }
      ]
    }
  ]
}