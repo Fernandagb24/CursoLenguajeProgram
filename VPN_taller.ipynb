{
  "nbformat": 4,
  "nbformat_minor": 0,
  "metadata": {
    "colab": {
      "provenance": [],
      "authorship_tag": "ABX9TyPWMfUmOPxgGnBDiYAxF72p",
      "include_colab_link": true
    },
    "kernelspec": {
      "name": "python3",
      "display_name": "Python 3"
    },
    "language_info": {
      "name": "python"
    }
  },
  "cells": [
    {
      "cell_type": "markdown",
      "metadata": {
        "id": "view-in-github",
        "colab_type": "text"
      },
      "source": [
        "<a href=\"https://colab.research.google.com/github/Fernandagb24/CursoLenguajeProgram/blob/main/VPN_taller.ipynb\" target=\"_parent\"><img src=\"https://colab.research.google.com/assets/colab-badge.svg\" alt=\"Open In Colab\"/></a>"
      ]
    },
    {
      "cell_type": "code",
      "execution_count": null,
      "metadata": {
        "id": "OKcR3ioUk6x7"
      },
      "outputs": [],
      "source": []
    },
    {
      "cell_type": "markdown",
      "source": [
        "# - **VPN(Valor Presente Neto)**\n",
        "El **VPN** es una medida financiera que te permite evaluar la viabilidad de un proyecto, calculando la diferencia entre el valor presente de los flujos de caja futuros y la inversión inicial. Si el VPN es positivo, el proyecto es rentable; si es negativo, no lo es.\n",
        "\n",
        "## **¿Cómo se calcula el VPN?**\n",
        "\n",
        "* Se resta el costo inicial de la inversión del valor actual de los flujos de caja futuros.\n",
        "* Los flujos de caja futuros se descontan a una tasa de descuento específica.\n",
        "* La tasa de descuento depende de la empresa y de cómo obtiene su financiamiento.\n",
        "\n",
        "##**¿Cómo se interpreta el VPN?**\n",
        "\n",
        "* Si el VPN es positivo, el proyecto es rentable y viable para su inversión.\n",
        "* Si el VPN es negativo, el proyecto no es rentable.\n",
        "*   Al comparar varios proyectos, el que tenga mayor VPN proporcionará el mayor rendimiento.\n",
        "\n",
        "## **¿Dónde se utiliza el VPN?**\n",
        "En el sector bancario, En la inversión, En las finanzas personales.\n",
        "\n",
        "## **¿Qué es la tasa de descuento?**\n",
        "Es un factor financiero que se utiliza para calcular el valor actual de un pago a futuro.\n",
        "\n",
        "# - **Formula del VPN**\n",
        "\n",
        "<img src=\"https://www.gerencie.com/wp-content/uploads/formula-calculo-vpn.png\" width=\"400\">\n",
        "\n",
        "\n",
        "*   Ft​: son los flujos de efectivo esperados en el periodo.\n",
        "*   r: es la tasa en porcentaje de descuento o tasa de rendimiento requerida.\n",
        "*   t: es el número de periodos o años en los que se recibe un flujo de efectivo.\n",
        "*   C0​: es la inversión inicial o el costo de la inversión."
      ],
      "metadata": {
        "id": "V5Yy4BGWoZFY"
      }
    },
    {
      "cell_type": "code",
      "source": [
        "print(\"la empresa está considerando un proyecto con una inversión inicial de $20,000 y espera recibir flujos de caja de $10,000 en\")\n",
        "print(\"cada uno de los próximos tres años.La tasa de descuento es del 5%.\")\n",
        "Inversión_inicial = 20000\n",
        "flujo_año_1 = 15000\n",
        "flujo_año_2 = 10000\n",
        "flujo_año_3 = 8000\n",
        "tasa_descuento = 0.05"
      ],
      "metadata": {
        "colab": {
          "base_uri": "https://localhost:8080/"
        },
        "id": "bp10aBsdt-Uc",
        "outputId": "837ca124-db04-4e41-8b4a-508d65cbd77f"
      },
      "execution_count": null,
      "outputs": [
        {
          "output_type": "stream",
          "name": "stdout",
          "text": [
            "la empresa está considerando un proyecto con una inversión inicial de $20,000 y espera recibir flujos de caja de $10,000 en\n",
            "cada uno de los próximos tres años.La tasa de descuento es del 5%.\n"
          ]
        }
      ]
    },
    {
      "cell_type": "code",
      "source": [
        "VPN = flujo_año_1 / (1 + tasa_descuento) + (flujo_año_2 / (1 + tasa_descuento)**2) + (flujo_año_3 / (1 + tasa_descuento)**3 - Inversión_inicial)\n",
        "print(VPN)\n"
      ],
      "metadata": {
        "colab": {
          "base_uri": "https://localhost:8080/"
        },
        "id": "trlncpwovaG4",
        "outputId": "bdde152b-6a61-436f-b1d1-895db88a8fe3"
      },
      "execution_count": null,
      "outputs": [
        {
          "output_type": "stream",
          "name": "stdout",
          "text": [
            "10266.709858546594\n"
          ]
        }
      ]
    },
    {
      "cell_type": "code",
      "source": [
        "if VPN > 0:\n",
        "    print(\"La inversión es rentable\")\n",
        "else:\n",
        "    print(\"La inversión no es rentable\")"
      ],
      "metadata": {
        "colab": {
          "base_uri": "https://localhost:8080/"
        },
        "id": "_-gZCDPdvcnR",
        "outputId": "76779b0d-da82-4823-d90f-214ccf8aa068"
      },
      "execution_count": null,
      "outputs": [
        {
          "output_type": "stream",
          "name": "stdout",
          "text": [
            "La inversión es rentable\n"
          ]
        }
      ]
    }
  ]
}