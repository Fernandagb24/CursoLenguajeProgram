{
  "nbformat": 4,
  "nbformat_minor": 0,
  "metadata": {
    "colab": {
      "provenance": [],
      "authorship_tag": "ABX9TyNfBAydsn5gSpPxSmvj7TLh",
      "include_colab_link": true
    },
    "kernelspec": {
      "name": "python3",
      "display_name": "Python 3"
    },
    "language_info": {
      "name": "python"
    }
  },
  "cells": [
    {
      "cell_type": "markdown",
      "metadata": {
        "id": "view-in-github",
        "colab_type": "text"
      },
      "source": [
        "<a href=\"https://colab.research.google.com/github/Fernandagb24/CursoLenguajeProgram/blob/main/Taller_leng_Progr.ipynb\" target=\"_parent\"><img src=\"https://colab.research.google.com/assets/colab-badge.svg\" alt=\"Open In Colab\"/></a>"
      ]
    },
    {
      "cell_type": "code",
      "execution_count": 1,
      "metadata": {
        "colab": {
          "base_uri": "https://localhost:8080/"
        },
        "id": "UBSBhV0_JZis",
        "outputId": "2712eb03-cb59-4e88-b7c3-c0546fb794ff"
      },
      "outputs": [
        {
          "output_type": "stream",
          "name": "stdout",
          "text": [
            "BAJO EN CALORÍAS\n"
          ]
        }
      ],
      "source": [
        "tomate = {\n",
        "    \"tamano_porcion\": 125,\n",
        "    \"calorias\": 22.5,\n",
        "    \"grasa\": 250,\n",
        "    \"sodio\": 6.25,\n",
        "    \"azucar\": 3.29,\n",
        "    \"fibra\": 1.5\n",
        "}\n",
        "\n",
        "if tomate[\"calorias\"] < 5:\n",
        "    etiqueta_calorias = \"SIN CALORÍAS\"\n",
        "elif tomate[\"calorias\"] < 40:\n",
        "    etiqueta_calorias = \"BAJO EN CALORÍAS\"\n",
        "else:\n",
        "    etiqueta_calorias = None\n",
        "\n",
        "print(etiqueta_calorias)"
      ]
    },
    {
      "cell_type": "code",
      "source": [
        "def asignar_etiqueta_calorias(alimento):\n",
        "    if alimento[\"calorias\"] < 5:\n",
        "        etiqueta_calorias = \"SIN CALORÍAS\"\n",
        "    elif alimento[\"calorias\"] < 40:\n",
        "        etiqueta_calorias = \"BAJO EN CALORÍAS\"\n",
        "    return etiqueta_calorias\n",
        "\n",
        "# Probar con tomate\n",
        "print(asignar_etiqueta_calorias(tomate))"
      ],
      "metadata": {
        "colab": {
          "base_uri": "https://localhost:8080/"
        },
        "id": "r6dWQUq6J9NW",
        "outputId": "5a966252-8ac6-4153-ff35-eec60736fae2"
      },
      "execution_count": 46,
      "outputs": [
        {
          "output_type": "stream",
          "name": "stdout",
          "text": [
            "BAJO EN CALORÍAS\n"
          ]
        }
      ]
    },
    {
      "cell_type": "code",
      "source": [
        "def asignar_etiqueta_grasa(alimento):\n",
        "\n",
        "    grasa_gramos = alimento[\"grasa\"] / 1000  # Convertir miligramos a gramos\n",
        "    if grasa_gramos < 0.5:\n",
        "        etiqueta_grasa = \"SIN GRASA\"\n",
        "    elif grasa_gramos <= 3:\n",
        "        etiqueta_grasa = \"BAJO EN GRASA\"\n",
        "    else:\n",
        "        etiqueta_grasa = None\n",
        "    return etiqueta_grasa\n",
        "\n",
        "# Probar con tomate\n",
        "print(asignar_etiqueta_grasa(tomate))"
      ],
      "metadata": {
        "colab": {
          "base_uri": "https://localhost:8080/"
        },
        "id": "zck48N3PPePk",
        "outputId": "cf60f97c-a82d-4e3d-8db4-c061c11d7a54"
      },
      "execution_count": 47,
      "outputs": [
        {
          "output_type": "stream",
          "name": "stdout",
          "text": [
            "SIN GRASA\n"
          ]
        }
      ]
    },
    {
      "cell_type": "code",
      "source": [
        "def asignar_etiqueta_azucar(alimento):\n",
        "  # Obtener las etiquetas de calorías y grasa\n",
        "    etiqueta_calorias = asignar_etiqueta_calorias(alimento)\n",
        "    etiqueta_grasa = asignar_etiqueta_grasa(alimento)\n",
        "    azucar_gramos = alimento[\"azucar\"]\n",
        "    if azucar_gramos < 5:\n",
        "        etiqueta_azucar = \"BAJO EN AZÚCAR\"\n",
        "    else:\n",
        "        etiqueta_azucar = None\n",
        "    return [etiqueta_calorias, etiqueta_grasa, etiqueta_azucar]\n",
        "\n",
        "# Probar con el tomate\n",
        "etiquetas_tomate = asignar_etiqueta_azucar(tomate)\n",
        "print(etiquetas_tomate)\n"
      ],
      "metadata": {
        "colab": {
          "base_uri": "https://localhost:8080/"
        },
        "id": "K5uHdXfUPuZG",
        "outputId": "acf20ff1-fd83-4f89-9cac-abc0e6720b1c"
      },
      "execution_count": 48,
      "outputs": [
        {
          "output_type": "stream",
          "name": "stdout",
          "text": [
            "['BAJO EN CALORÍAS', 'SIN GRASA', 'BAJO EN AZÚCAR']\n"
          ]
        }
      ]
    }
  ]
}