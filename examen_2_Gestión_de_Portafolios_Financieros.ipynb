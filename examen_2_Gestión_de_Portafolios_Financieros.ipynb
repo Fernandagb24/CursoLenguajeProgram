{
  "nbformat": 4,
  "nbformat_minor": 0,
  "metadata": {
    "colab": {
      "provenance": [],
      "authorship_tag": "ABX9TyMD1AaSPv66uKctoWHfxwpv",
      "include_colab_link": true
    },
    "kernelspec": {
      "name": "python3",
      "display_name": "Python 3"
    },
    "language_info": {
      "name": "python"
    }
  },
  "cells": [
    {
      "cell_type": "markdown",
      "metadata": {
        "id": "view-in-github",
        "colab_type": "text"
      },
      "source": [
        "<a href=\"https://colab.research.google.com/github/Fernandagb24/CursoLenguajeProgram/blob/main/examen_2_Gesti%C3%B3n_de_Portafolios_Financieros.ipynb\" target=\"_parent\"><img src=\"https://colab.research.google.com/assets/colab-badge.svg\" alt=\"Open In Colab\"/></a>"
      ]
    },
    {
      "cell_type": "markdown",
      "source": [
        "##**Parte 1: Declaración de Variables y Listas**"
      ],
      "metadata": {
        "id": "4YpJHIGhcI7z"
      }
    },
    {
      "cell_type": "code",
      "source": [
        "clientes = [\"Juan Perez\", \"Maria Rodriguez\", \"Carlos Lopez\", \"Ana Gomez\"]\n",
        "montos_invertidos = [10000, 15000, 20000, 18000]\n",
        "rendimientos = [5.5, 6.0, 4.0, 7.5]\n",
        "\n",
        "# Crear tuplas para cada cliente\n",
        "cliente_1 = (\"Juan Perez\", 10000, 5.5)\n",
        "cliente_2 = (\"Maria Rodriguez\", 15000, 6.0)\n",
        "cliente_3 = (\"Carlos Lopez\", 20000, 4.0)\n",
        "cliente_4 = (\"Ana Gomez\", 18000, 7.5)\n",
        "print(cliente_1)\n",
        "print(cliente_2)\n",
        "print(cliente_3)\n",
        "print(cliente_4)"
      ],
      "metadata": {
        "colab": {
          "base_uri": "https://localhost:8080/"
        },
        "id": "i6MGj5vWcNvw",
        "outputId": "9dafd756-6b7d-45cb-ac91-b68f3022a920"
      },
      "execution_count": 8,
      "outputs": [
        {
          "output_type": "stream",
          "name": "stdout",
          "text": [
            "('Juan Perez', 10000, 5.5)\n",
            "('Maria Rodriguez', 15000, 6.0)\n",
            "('Carlos Lopez', 20000, 4.0)\n",
            "('Ana Gomez', 18000, 7.5)\n"
          ]
        }
      ]
    },
    {
      "cell_type": "markdown",
      "source": [
        "##**Parte 2: Uso de Diccionarios y Condicionales**"
      ],
      "metadata": {
        "id": "Y3SIT4SHfBfk"
      }
    },
    {
      "cell_type": "code",
      "source": [
        "portafolio = {\n",
        "    \"Juan Perez\": {\"monto_invertido\": 10000, \"rendimiento\": 5.5},\n",
        "    \"Maria Rodriguez\": {\"monto_invertido\": 15000, \"rendimiento\": 6.0},\n",
        "    \"Carlos Lopez\": {\"monto_invertido\": 20000, \"rendimiento\": 4.0},\n",
        "    \"Ana Gomez\": {\"monto_invertido\": 18000, \"rendimiento\": 7.5}\n",
        "}\n",
        "\n",
        "# Evaluación del rendimiento superior al 5%\n",
        "for cliente, datos in portafolio.items():\n",
        "    if datos[\"rendimiento\"] > 5:\n",
        "        print(f\"{cliente} tiene un rendimiento de {datos['rendimiento']}%\")"
      ],
      "metadata": {
        "colab": {
          "base_uri": "https://localhost:8080/"
        },
        "id": "nvbQCVNOfRPi",
        "outputId": "8f9b9820-b6f7-41d0-c08f-6d6b339a215a"
      },
      "execution_count": 7,
      "outputs": [
        {
          "output_type": "stream",
          "name": "stdout",
          "text": [
            "Juan Perez tiene un rendimiento de 5.5%\n",
            "Maria Rodriguez tiene un rendimiento de 6.0%\n",
            "Ana Gomez tiene un rendimiento de 7.5%\n"
          ]
        }
      ]
    },
    {
      "cell_type": "markdown",
      "source": [
        "##**Parte 3: Cálculos con Ciclos**"
      ],
      "metadata": {
        "id": "uteE5mA9gDhl"
      }
    },
    {
      "cell_type": "code",
      "source": [
        "rendimiento_total = 0\n",
        "for cliente, datos in portafolio.items():\n",
        "    rendimiento_cliente = (datos[\"monto_invertido\"] * datos[\"rendimiento\"]) / 100\n",
        "    rendimiento_total += rendimiento_cliente\n",
        "\n",
        "print(f\"El rendimiento total del portafolio es: ${rendimiento_total:.2f}\")\n",
        "\n",
        "# Identificar al cliente con mayor rendimiento\n",
        "max_rendimiento = 0\n",
        "cliente_max_rendimiento = \"\"\n",
        "for cliente, datos in portafolio.items():\n",
        "    rendimiento_cliente = (datos[\"monto_invertido\"] * datos[\"rendimiento\"]) / 100\n",
        "    if rendimiento_cliente > max_rendimiento:\n",
        "        max_rendimiento = rendimiento_cliente\n",
        "        cliente_max_rendimiento = cliente\n",
        "\n",
        "print(f\"El cliente con mayor rendimiento es {cliente_max_rendimiento} con un rendimiento de ${max_rendimiento:.2f}\")\n"
      ],
      "metadata": {
        "colab": {
          "base_uri": "https://localhost:8080/"
        },
        "id": "NVb_VSW8gIOm",
        "outputId": "a14350c8-777c-4015-ed8a-405cf7d919c4"
      },
      "execution_count": 9,
      "outputs": [
        {
          "output_type": "stream",
          "name": "stdout",
          "text": [
            "El rendimiento total del portafolio es: $3600.00\n",
            "El cliente con mayor rendimiento es Ana Gomez con un rendimiento de $1350.00\n"
          ]
        }
      ]
    },
    {
      "cell_type": "markdown",
      "source": [
        "##**Parte 4: Modificaciones del Portafolio**"
      ],
      "metadata": {
        "id": "tDDc1IFQgb-1"
      }
    },
    {
      "cell_type": "code",
      "execution_count": 14,
      "metadata": {
        "colab": {
          "base_uri": "https://localhost:8080/"
        },
        "id": "Aej5xb3KV3N5",
        "outputId": "0e7c89aa-b0b7-4c13-f69d-b05acbdc0532"
      },
      "outputs": [
        {
          "output_type": "stream",
          "name": "stdout",
          "text": [
            "Ana Gomez is not in the portfolio\n",
            "{'Juan Perez': {'monto_invertido': 10000, 'rendimiento': 5.5}, 'Maria Rodriguez': {'monto_invertido': 15000, 'rendimiento': 6.0}, 'Carlos Lopez': {'monto_invertido': 25000, 'rendimiento': 4.0}, 'Laura Fernandez': {'monto_invertido': 22000, 'rendimiento': 6.8}}\n"
          ]
        }
      ],
      "source": [
        "# Actualizar monto invertido de Carlos Lopez\n",
        "portafolio[\"Carlos Lopez\"][\"monto_invertido\"] = 25000\n",
        "\n",
        "# Añadir nuevo cliente Laura Fernandez\n",
        "portafolio[\"Laura Fernandez\"] = {\"monto_invertido\": 22000, \"rendimiento\": 6.8}\n",
        "\n",
        "# Remover a Ana Gomez\n",
        "if \"Ana Gomez\" in portafolio:\n",
        "    del portafolio[\"Ana Gomez\"]\n",
        "else:\n",
        "    print(\"Ana Gomez is not in the portfolio\")\n",
        "\n",
        "print(portafolio)"
      ]
    }
  ]
}