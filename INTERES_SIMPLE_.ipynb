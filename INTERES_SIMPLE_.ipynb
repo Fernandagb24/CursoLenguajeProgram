{
  "nbformat": 4,
  "nbformat_minor": 0,
  "metadata": {
    "colab": {
      "provenance": [],
      "include_colab_link": true
    },
    "kernelspec": {
      "name": "python3",
      "display_name": "Python 3"
    },
    "language_info": {
      "name": "python"
    }
  },
  "cells": [
    {
      "cell_type": "markdown",
      "metadata": {
        "id": "view-in-github",
        "colab_type": "text"
      },
      "source": [
        "<a href=\"https://colab.research.google.com/github/Fernandagb24/CursoLenguajeProgram/blob/main/INTERES_SIMPLE_.ipynb\" target=\"_parent\"><img src=\"https://colab.research.google.com/assets/colab-badge.svg\" alt=\"Open In Colab\"/></a>"
      ]
    },
    {
      "cell_type": "markdown",
      "source": [],
      "metadata": {
        "id": "YI9DIlwqxhZC"
      }
    },
    {
      "cell_type": "markdown",
      "source": [
        "\n",
        "\n",
        "\n",
        "\n",
        "# **Interés Simple**\n",
        "El interés simple es el beneficio que se obtiene de un capital inicial en un período de tiempo. Se aplica a la cantidad inicial del capital y no se acumula para generar intereses en el siguiente período.\n",
        "\n",
        "**Factor Principal**\n",
        "* No acumula los intereses pasados\n",
        "* Se calcula multiplicando la tasa de interés por el capital principal\n",
        "* Es una forma muy fácil de calcular el coste de un préstamo\n",
        "\n",
        "# **¿Para qué se utiliza el interés simple?**\n",
        "\n",
        "El interés simple es muy fácil de calcular y permite de forma rápida saber cuánto es el coste de pedir prestado.\n",
        "\n",
        "También es muy útil en determinados préstamos como los préstamos personales o los bonos y letras del tesoro.\n",
        "\n",
        "## **Cálculo de interés simple**\n",
        "\n",
        " **Datos de entrada**\n",
        "\n",
        "* capital inicial = 10000  # Monto inicial en dólares\n",
        "* tasa_interes = 0.05  # Tasa de interés anual (5%)\n",
        "* tiempo = 3  # Número de años\n",
        "\n",
        "## **Fórmula del interés simple**\n",
        "\n",
        "$$I= C*R*T$$\n",
        "\n",
        "* I = Interés Simple\n",
        "\n",
        "* C = Capital inicial\n",
        "\n",
        "* r = Tasa de interés\n",
        "\n",
        "* t = Tiempo\n",
        "\n",
        "* **Fórmula en Latex :**( dada por la profesora)\n",
        "\n",
        "$$A=P(1+rt)A = P(1 + rt)A=P(1+rt)$$\n",
        "\n",
        "**Donde**\n",
        "\n",
        "*  AAA = Monto final\n",
        "* PPP = Capital inicial\n",
        "* rrr = Tasa de interés\n",
        "* ttt = Tiempo\n",
        "\n",
        "\n",
        "# **Conclusión sobre el Interés Simple**\n",
        "\n",
        "El interés simple es un método fácil de calcular y entender, ya que los intereses generados no se reinvierten, sino que siempre se calculan sobre el capital inicial. Su crecimiento es lineal, lo que lo hace ideal para préstamos e inversiones a corto plazo.\n",
        "\n",
        "Aunque es útil en situaciones de financiamiento rápido y de bajo riesgo, en inversiones a largo plazo suele ser menos rentable que el interés compuesto, que permite un crecimiento exponencial del capital.\n",
        "\n",
        "En resumen, el interés simple es una herramienta financiera clave, especialmente para calcular costos de préstamos y rendimientos en depósitos a corto plazo.\n",
        "\n",
        "\n",
        "<img src=\"https://th.bing.com/th/id/OIP.TSJ4l8ytl4C8UUMakrqNCgHaDz?rs=1&pid=ImgDetMain\" width=\"400\">\n",
        "\n",
        "\n",
        "\n"
      ],
      "metadata": {
        "id": "VB-TryV0vYV2"
      }
    },
    {
      "cell_type": "markdown",
      "source": [
        "[imagen](https://www.fondosindexados.net/wp-content/uploads/2019/10/Interes-simple.jpg)\n",
        "\n",
        "[referencia](https://economipedia.com/definiciones/interes-simple.html)"
      ],
      "metadata": {
        "id": "TN-aiPCt31rP"
      }
    },
    {
      "cell_type": "markdown",
      "source": [
        "# Enunciado del ejercicio\n",
        "Un inversionista deposita $10,000,000 en una cuenta bancaria con una tasa de interés simple del 8% anual. ¿Cuánto dinero tendrá después de 7 años?;¿Es viable prestar el dinero por este periodo?\"\n",
        "\n",
        "\n",
        "\n",
        "\n"
      ],
      "metadata": {
        "id": "FTABqGGUvoOh"
      }
    },
    {
      "cell_type": "markdown",
      "source": [],
      "metadata": {
        "id": "re4DwmucpWbw"
      }
    },
    {
      "cell_type": "code",
      "source": [],
      "metadata": {
        "id": "PkeynfUBhd0Q"
      },
      "execution_count": null,
      "outputs": []
    },
    {
      "cell_type": "code",
      "source": [
        "# Definir variables\n",
        "P = 10000000  # Capital inicial\n",
        "tasa_interes = 0.08  # Tasa de interés anual\n",
        "tiempo = 7  # Años\n",
        "inflacion_anual = 0.05  # Inflación estimada\n",
        "\n",
        "\n"
      ],
      "metadata": {
        "id": "lcgcKjk3ntXA"
      },
      "execution_count": null,
      "outputs": []
    },
    {
      "cell_type": "code",
      "source": [
        "# Calcular el monto final con interés simple\n",
        "A = P + (P * tasa_interes * tiempo)\n"
      ],
      "metadata": {
        "id": "THFumRVuqK2c"
      },
      "execution_count": null,
      "outputs": []
    },
    {
      "cell_type": "code",
      "source": [
        "# Mostrar el resultado\n",
        "print(f\"Después de {tiempo} años, el monto final será: ${A:,.2f}\")\n",
        "\n"
      ],
      "metadata": {
        "colab": {
          "base_uri": "https://localhost:8080/"
        },
        "id": "EqTRPxeawK90",
        "outputId": "f59ad758-8e57-47f2-c3d5-e25682f0104e"
      },
      "execution_count": null,
      "outputs": [
        {
          "output_type": "stream",
          "name": "stdout",
          "text": [
            "Después de 7 años, el monto final será: $15,600,000.00\n"
          ]
        }
      ]
    },
    {
      "cell_type": "markdown",
      "source": [],
      "metadata": {
        "id": "jwmWALt0n9oM"
      }
    },
    {
      "cell_type": "code",
      "source": [
        "# Evaluar si es viable la inversión\n",
        "rendimiento_real = tasa_interes - inflacion_anual\n"
      ],
      "metadata": {
        "id": "sG0wH6vfwH0T"
      },
      "execution_count": null,
      "outputs": []
    },
    {
      "cell_type": "code",
      "source": [
        "if rendimiento_real > 0:\n",
        "    print(\"La inversión es viable, ya que el rendimiento real es positivo.\")\n",
        "elif rendimiento_real == 0:\n",
        "    print(\"La inversión es neutral, ya que la tasa de interés es igual a la inflación.\")\n",
        "else:\n",
        "    print(\"La inversión no es viable, ya que la inflación reduce el valor real del dinero.\")"
      ],
      "metadata": {
        "colab": {
          "base_uri": "https://localhost:8080/"
        },
        "id": "nD0jm0gchEFh",
        "outputId": "a197a862-e822-4d55-96d0-ffa7dfcb5199"
      },
      "execution_count": null,
      "outputs": [
        {
          "output_type": "stream",
          "name": "stdout",
          "text": [
            "La inversión es viable, ya que el rendimiento real es positivo.\n"
          ]
        }
      ]
    },
    {
      "cell_type": "markdown",
      "source": [
        "**texto en negrita**"
      ],
      "metadata": {
        "id": "5bapjaxx5tl7"
      }
    }
  ]
}